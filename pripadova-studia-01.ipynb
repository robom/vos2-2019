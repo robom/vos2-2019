{
 "cells": [
  {
   "cell_type": "markdown",
   "metadata": {},
   "source": [
    "# Prípadová štúdia 1"
   ]
  },
  {
   "cell_type": "markdown",
   "metadata": {},
   "source": [
    "## Dáta"
   ]
  },
  {
   "cell_type": "markdown",
   "metadata": {},
   "source": [
    "Je možné cítiť emócie, ktoré prežívame? Ako zapácha strach alebo radosť? **Na konci tohto projektu to možno zistíte!**\n",
    "\n",
    "Použite dataset *The Smell of Fear* na Kaggle: https://www.kaggle.com/jswicker/the-smell-of-fear\n",
    "\n",
    "Dataset obsahuje merania rôznych látok vydychovaných divákmi v kinosále počas toho, ako sledovali viaceré filmy. Obsahuje nasledovné súbory s dátami:\n",
    "- `labels.csv`: zachytáva použité značky na anotovanie scén filmov (napr. *suspense*, *comedy*, či *crime*)\n",
    "- `screening_times.csv`: zachytáva premietania filmov - čas premietania, počet divákov, naplnenosť kinosály a pod.\n",
    "- `TOF_CO2_data_30sec.csv`: obsahuje merania sledovaných látok vydychovaných divákmi; merania sa robili v 30 sekundových intervaloch. Časy meraní viete použiť na zistenie, ktorého premietaného filmu sa týkajú.\n",
    "- `labels/[movie_name].csv`: obsahuje anotácie jednotlivých scén pre každý zo 6 zvolených filmov (napr. *Hobit*). Riadky súborov reprezentujú značku zo súboru `labels.csv`, stĺpce reprezentujú jednotlivé 30 sekundové intervaly. T. j. napr. hodnota 1 v bunke (2, 5) pre film *Hobit* znamená, že v danom úseku bola scéna s naháňačkou (*chase*).\n",
    "\n",
    "Pre viac informácií sa nebojte pozrieť články, ktoré autori datasetu nalinkovali k opisu dát na Kaggle (hoci úlohu by ste mali vedieť vyriešiť aj bez toho). Môžete tiež pozrieť *kernel* a diskusiu na Kaggle; ak však využijete cudzí kód vo vašom riešení, korektne to uveďte."
   ]
  },
  {
   "cell_type": "markdown",
   "metadata": {},
   "source": [
    "## Úloha"
   ]
  },
  {
   "cell_type": "markdown",
   "metadata": {},
   "source": [
    "Vašou úlohou je natrénovať klasifikátor, ktorý bude vedieť pre daný časový interval (opísaný nameranými hodnotami v kinosále a informáciami o priemetanom filme) vedieť predikovať typ scény, ktorá sa v čase merania premietala na plátne.\n",
    "\n",
    "Vaše riešenie by malo pozostávať z:\n",
    "- *prieskumnej analýzy*, kde sa bližšie oboznámite s dátami, identifikujete problémy v dátach a pozriete sa na závislosti v dátach (pokúsite sa identifikovať dobré prediktory pre klasifikáciu)\n",
    "- *predspracovania*, v ktorom vhodne integrujete dáta z rôznych súborov a vysporiadate sa s problémami v dátach; v tejto fáze zrejme bude potrebné vytvoriť aj nové črty transformáciou alebo kombináciou existujúcich čŕt (*feature engineering*)\n",
    "- strojového učenia, kde sa pokúsite natrénovať klasifikátor typu scény. Môžete experimentovať s rôznymi algoritmami strojového učenia a ich nastaveniami (*model selection* a *hyperparamters tuning*), s rôznym počtom predikovaných tried, resp. s rôznymi podmnožinami vstupných atribútov (*feature selection*)."
   ]
  },
  {
   "cell_type": "markdown",
   "metadata": {},
   "source": [
    "## Hodnotenie"
   ]
  },
  {
   "cell_type": "markdown",
   "metadata": {},
   "source": [
    "Celkovo môžete za prípadovú štúdiu získať **30b**:\n",
    "\n",
    "- priebežné odovzdanie v 4. týždni (prieskumná analýza): 6b\n",
    "- priebežné odovzdanie v 5. týždni (predspracovanie): 6b\n",
    "- priebežné odovzdanie v 6. týždni (strojové učenie): 6b\n",
    "- finálne odovzdanie v 7. týždni: 12b"
   ]
  },
  {
   "cell_type": "markdown",
   "metadata": {},
   "source": [
    "Po každom odovzdaní bude na seminári prezentácia pokroku na projekte niektorých z vás + naša spätná väzba a spoločná diskusia (*vyhradená cca polovica semináru*)."
   ]
  },
  {
   "cell_type": "markdown",
   "metadata": {},
   "source": [
    "Najbližšie odovzdanie vás čaká v **stredu 16.10.2019 7:59** (hoci odporúčam nevyužiť poskytnutý čas do poslednej minúty)."
   ]
  }
 ],
 "metadata": {
  "kernelspec": {
   "display_name": "Python 3",
   "language": "python",
   "name": "python3"
  },
  "language_info": {
   "codemirror_mode": {
    "name": "ipython",
    "version": 3
   },
   "file_extension": ".py",
   "mimetype": "text/x-python",
   "name": "python",
   "nbconvert_exporter": "python",
   "pygments_lexer": "ipython3",
   "version": "3.6.4"
  }
 },
 "nbformat": 4,
 "nbformat_minor": 2
}
